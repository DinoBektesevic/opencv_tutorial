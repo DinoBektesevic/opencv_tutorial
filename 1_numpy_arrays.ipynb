{
 "cells": [
  {
   "cell_type": "markdown",
   "id": "07cd61f3-6c4d-49d0-98c2-a46ad6b7d02d",
   "metadata": {},
   "source": [
    "# Introduction to NumPy Arrays\n",
    "\n",
    "In this notebook we will showcase some basic to intermediate NumPy array manipulations which are the basis of many data processing approaches in science.\n",
    "We start by importing the packages we plan to use."
   ]
  },
  {
   "cell_type": "code",
   "execution_count": null,
   "id": "5b5bb401-73f8-45d1-ac72-67ea3e04a2b4",
   "metadata": {},
   "outputs": [],
   "source": [
    "import numpy as np\n",
    "import matplotlib\n",
    "import cv2"
   ]
  },
  {
   "cell_type": "markdown",
   "id": "c11848a0-6efa-4aaa-822d-d1c1e89707d9",
   "metadata": {},
   "source": [
    "## Python lists\n",
    "\n",
    "Python already has a basic container for arrays. To demonstrate in what way NumPy arrays are different than the built-in Python lists we start by reviewing some basic use cases of Python lists.                 \n",
    "We can declare a new list by enclosing some collection of objects in brackets `[` `]`:`"
   ]
  },
  {
   "cell_type": "code",
   "execution_count": null,
   "id": "49830fdc-3c35-43a0-abfc-5a7ba8d361b3",
   "metadata": {},
   "outputs": [],
   "source": [
    "a = [1, 2, 3]\n",
    "a"
   ]
  },
  {
   "cell_type": "code",
   "execution_count": null,
   "id": "232269f3-a444-45e2-9a65-35b84cbb4a51",
   "metadata": {},
   "outputs": [],
   "source": [
    "b = ['a', 'b', 'c']\n",
    "b"
   ]
  },
  {
   "cell_type": "markdown",
   "id": "3a3a58ad-5f57-43a3-945b-4c7e522bdd67",
   "metadata": {},
   "source": []
  },
  {
   "cell_type": "code",
   "execution_count": null,
   "id": "1fdecf1a-63ac-4ca5-ab8b-963661480f48",
   "metadata": {},
   "outputs": [],
   "source": [
    "c = [1, 2, 'c']\n",
    "c"
   ]
  },
  {
   "cell_type": "markdown",
   "id": "b9dbabf6-53ce-43f6-81bf-0d3bb8becc0c",
   "metadata": {},
   "source": [
    "If we want to create a matrix (a 2D list) we create a list of lists."
   ]
  },
  {
   "cell_type": "code",
   "execution_count": null,
   "id": "2f8aecbc-7f1d-4746-a1be-15e005adb62c",
   "metadata": {},
   "outputs": [],
   "source": [
    "d = [[1, 2, 3], [4, 5, 6]]\n",
    "d"
   ]
  },
  {
   "cell_type": "markdown",
   "id": "e5dfb5ac-6e34-4848-9da0-9c378ef08539",
   "metadata": {},
   "source": [
    "We access elements of a list by using the getitem operator, denoted by adding `[]` after a variable name:"
   ]
  },
  {
   "cell_type": "code",
   "execution_count": null,
   "id": "92306eff-69c5-44b3-81ec-c0de5b3accbe",
   "metadata": {},
   "outputs": [],
   "source": [
    "a[0]"
   ]
  },
  {
   "cell_type": "markdown",
   "id": "38077c80-639e-4c00-9454-0fb8b3148452",
   "metadata": {},
   "source": [
    "For multi-dimensional lists this returns a row."
   ]
  },
  {
   "cell_type": "code",
   "execution_count": null,
   "id": "09a684df-ab4c-4dec-823b-8dc77da01d49",
   "metadata": {},
   "outputs": [],
   "source": [
    "d[0]"
   ]
  },
  {
   "cell_type": "markdown",
   "id": "3ca60f15-df92-41a7-8f69-66e55bd91fd1",
   "metadata": {},
   "source": [
    "So to access an element we need to access the row-index and then the column-index of the element we want."
   ]
  },
  {
   "cell_type": "code",
   "execution_count": null,
   "id": "12628685-81e3-4735-826c-2b594eeb64bc",
   "metadata": {},
   "outputs": [],
   "source": [
    "d[0][0]"
   ]
  },
  {
   "cell_type": "code",
   "execution_count": null,
   "id": "57706631-1f14-449f-8393-3554991cda38",
   "metadata": {},
   "outputs": [],
   "source": [
    "d[1][0]"
   ]
  },
  {
   "cell_type": "markdown",
   "id": "1c613831-77cb-420f-8f33-3d881967c6ca",
   "metadata": {},
   "source": [
    "The main benefit of built-in lists is that they are mutable. This means we can dynamically add more elements to that list.           \n",
    "For example, to add a single number to list `a=[1, 2, 3]` we can do:"
   ]
  },
  {
   "cell_type": "code",
   "execution_count": null,
   "id": "9d4c58c7-87b4-4720-88eb-641443f810a1",
   "metadata": {},
   "outputs": [],
   "source": [
    "a.append(4)\n",
    "a"
   ]
  },
  {
   "cell_type": "markdown",
   "id": "bd74060a-1fdc-49f4-acf4-00e4e3f834ad",
   "metadata": {},
   "source": [
    "To add an collection of elements we can use the extend method:"
   ]
  },
  {
   "cell_type": "code",
   "execution_count": null,
   "id": "b39537d7-7d18-4cff-921f-6a07f773afe2",
   "metadata": {},
   "outputs": [],
   "source": [
    "a.extend([5, 6, 7])\n",
    "a"
   ]
  },
  {
   "cell_type": "markdown",
   "id": "559d6626-7a97-484a-a940-d11cb73354c4",
   "metadata": {},
   "source": [
    "We can even add elements that do not contain the same type as others in a list:"
   ]
  },
  {
   "cell_type": "code",
   "execution_count": null,
   "id": "043883b7-35ce-4ca3-abb5-bcd7f5c17b8f",
   "metadata": {},
   "outputs": [],
   "source": [
    "a.append('a')\n",
    "a"
   ]
  },
  {
   "cell_type": "markdown",
   "id": "db1e492f-7454-4ceb-9f62-62939009b1f5",
   "metadata": {},
   "source": [
    "### So what's the issue with the builtins?\n",
    "\n",
    "This is all fantastic and grand. So why do we need NumPy arrays then and what's the difference?\n",
    "\n",
    "For starters, let's say we wanted to multiple all elements of a list by some number?                 \n",
    "What do you think the following command will return as a result?"
   ]
  },
  {
   "cell_type": "code",
   "execution_count": null,
   "id": "7225ff2f-23ab-4e69-af7c-d8625ad00169",
   "metadata": {},
   "outputs": [],
   "source": [
    "a = [1]*7\n",
    "a"
   ]
  },
  {
   "cell_type": "markdown",
   "id": "f2e4a21d-70ed-4104-9591-c0bdcbcd7a45",
   "metadata": {},
   "source": [
    "Why do you think this is what they decided the result should be?\n",
    "\n",
    "What about the following?"
   ]
  },
  {
   "cell_type": "code",
   "execution_count": null,
   "id": "bf576180-71a1-4fbb-a290-2d9390178628",
   "metadata": {},
   "outputs": [],
   "source": [
    "a + a"
   ]
  },
  {
   "cell_type": "markdown",
   "id": "8bc8196b-ddae-4e5e-b77d-8c360bf5150c",
   "metadata": {},
   "source": [
    "Think also, how would you select a column of elements from a big array?"
   ]
  },
  {
   "cell_type": "code",
   "execution_count": null,
   "id": "5259fcb1-c69f-466c-ba36-71a2847af7e1",
   "metadata": {},
   "outputs": [],
   "source": [
    "a = [[1, 2, 3], [4, 5, 6], [7, 8, 9]]\n",
    "a"
   ]
  },
  {
   "cell_type": "code",
   "execution_count": null,
   "id": "0189933f-e3fd-4f03-acc2-ec7bba06ce6a",
   "metadata": {},
   "outputs": [],
   "source": []
  },
  {
   "cell_type": "markdown",
   "id": "42e0e3c9-ceb8-4cce-a85d-3658caf15b3e",
   "metadata": {},
   "source": [
    "## NumPy Arrays\n",
    "\n",
    "There are many (many) ways to create a NumPy array.         \n",
    "For example, we can create them from lists"
   ]
  },
  {
   "cell_type": "code",
   "execution_count": null,
   "id": "0dfcd461-8643-4c7f-aea9-c509f2a4e065",
   "metadata": {},
   "outputs": [],
   "source": [
    "a = np.array([1, 2, 3])\n",
    "a"
   ]
  },
  {
   "cell_type": "code",
   "execution_count": null,
   "id": "348d63d7-d025-4a89-90d0-61b9f0f87f1b",
   "metadata": {},
   "outputs": [],
   "source": [
    "b = np.array( [[1,2,3], [4,5,6]] )\n",
    "b"
   ]
  },
  {
   "cell_type": "markdown",
   "id": "051c6b10-3c0c-45f7-bee5-a6c1f9548d89",
   "metadata": {},
   "source": [
    "What do you think the following will result in?"
   ]
  },
  {
   "cell_type": "code",
   "execution_count": null,
   "id": "f5704134-fe68-4bc3-8ff3-0f24c102d282",
   "metadata": {},
   "outputs": [],
   "source": [
    "b = np.array([1, 2, 'a'])\n",
    "b"
   ]
  },
  {
   "cell_type": "markdown",
   "id": "ea571984-eeda-4fa8-916b-f4d5da1b1fb4",
   "metadata": {},
   "source": [
    "Obviously, the first difference between NumPy arrays and lists is that NumPy arrays can only contain elements of the same type. \n",
    "\n",
    "There are *very* many ways to create numpy arrays. You are not expected to know all of them. Let's take a look at some other ways to create arrays nonetheless.          \n",
    "We can create an array of zeros by specifying the \"shape\", i.e. the dimensions, of the matrix:"
   ]
  },
  {
   "cell_type": "code",
   "execution_count": null,
   "id": "2feb34d7-6c55-4bba-a91d-58aff4e7cf8d",
   "metadata": {},
   "outputs": [],
   "source": [
    "np.zeros((3, 2))"
   ]
  },
  {
   "cell_type": "markdown",
   "id": "f0f9443c-b6be-4f12-b332-c8d2519188c4",
   "metadata": {},
   "source": [
    "An array of ones in some shape:"
   ]
  },
  {
   "cell_type": "code",
   "execution_count": null,
   "id": "39bd6d50-014f-477c-9e6a-765eece371c2",
   "metadata": {},
   "outputs": [],
   "source": [
    "np.ones((2, 3))"
   ]
  },
  {
   "cell_type": "markdown",
   "id": "d8db1f3c-a569-4fb1-967e-c6d1185cae00",
   "metadata": {},
   "source": [
    "We can create an array of N equally separated numbers in some range (inclusive) as:"
   ]
  },
  {
   "cell_type": "code",
   "execution_count": null,
   "id": "041ed407-36c5-43d0-9b9f-36d3f34e744f",
   "metadata": {},
   "outputs": [],
   "source": [
    "np.linspace(0, 10, 6)"
   ]
  },
  {
   "cell_type": "markdown",
   "id": "e41ea6a5-139b-45aa-92bf-c0bccb030c36",
   "metadata": {},
   "source": [
    "Or we can arrange numbers in some range by specifying a step:"
   ]
  },
  {
   "cell_type": "code",
   "execution_count": null,
   "id": "4238366a-40bf-44b0-9a19-32a3ca98135c",
   "metadata": {},
   "outputs": [],
   "source": [
    "np.arange(0, 10, 2)"
   ]
  },
  {
   "cell_type": "markdown",
   "id": "c89e8816-13b7-40e8-92de-0dcac268d73e",
   "metadata": {},
   "source": [
    "The last two methods, the `linspace` and `arange`, are already pretty useful. But they are even more powerful when combined with another method.       \n",
    "The `reshape` method reorders the given array into the given shape. Note that the number of elements has to equally divide into the given shape."
   ]
  },
  {
   "cell_type": "code",
   "execution_count": null,
   "id": "b2986803-3c9c-4fcf-8237-fee41f4232ce",
   "metadata": {},
   "outputs": [],
   "source": [
    "a = np.arange(0, 10, 1)\n",
    "a.reshape((5, 2))"
   ]
  },
  {
   "cell_type": "markdown",
   "id": "19bc4985-8d8e-4417-ae97-6786007537d7",
   "metadata": {},
   "source": [
    "A neat trick is to let NumPy pick the size of one of the dimensions:"
   ]
  },
  {
   "cell_type": "code",
   "execution_count": null,
   "id": "6e286125-3417-438d-83f0-090a81f8fde6",
   "metadata": {},
   "outputs": [],
   "source": [
    "a = a.reshape((2, -1))\n",
    "a"
   ]
  },
  {
   "cell_type": "markdown",
   "id": "1f5ba864-b4ae-41f9-9eeb-88d7c4543d91",
   "metadata": {},
   "source": [
    "This is hardly all of the possible ways to create NumPy arrays, for all the cool specialized functions check out the NumPy Manual:     \n",
    "https://numpy.org/doc/stable/user/basics.creation.html                \n",
    "which I recommend heartily as a reference if ever you get stuck. If you need something, chances are NumPy already has it and you just have to find it.\n",
    "\n",
    "Here are two more ways that I find (oddly) practical:"
   ]
  },
  {
   "cell_type": "code",
   "execution_count": null,
   "id": "098333b4-f17e-44ca-b3c2-dc799636a6d0",
   "metadata": {},
   "outputs": [],
   "source": [
    "np.eye(3, 3)"
   ]
  },
  {
   "cell_type": "code",
   "execution_count": null,
   "id": "778f76b5-11fa-4bd8-8bee-d5dd68a77e61",
   "metadata": {},
   "outputs": [],
   "source": [
    "np.diag((1, 2, 3))"
   ]
  },
  {
   "cell_type": "markdown",
   "id": "39594ca3-81d1-4a5c-bad3-7af000f0b3a5",
   "metadata": {},
   "source": [
    "## NumPy Arrays do math\n",
    "\n",
    "The big reason why NumPy arrays are more useful to us than lists is that they actually do math. "
   ]
  },
  {
   "cell_type": "code",
   "execution_count": null,
   "id": "792a9e2c-9e0b-42fa-a0a4-88098646bf71",
   "metadata": {},
   "outputs": [],
   "source": [
    "a = np.ones((10, ))\n",
    "b = np.arange(1, 11, 1)\n",
    "print(a)\n",
    "print(b)"
   ]
  },
  {
   "cell_type": "code",
   "execution_count": null,
   "id": "ea520528-b65b-4157-9b16-23ca96f0b146",
   "metadata": {},
   "outputs": [],
   "source": [
    "a + b"
   ]
  },
  {
   "cell_type": "code",
   "execution_count": null,
   "id": "039af870-c5ef-42bd-bd09-337743ff6786",
   "metadata": {},
   "outputs": [],
   "source": [
    "a + 1"
   ]
  },
  {
   "cell_type": "code",
   "execution_count": null,
   "id": "c59bf4b7-cbae-4ad2-abfd-72bd7e556908",
   "metadata": {},
   "outputs": [],
   "source": [
    "a*7"
   ]
  },
  {
   "cell_type": "code",
   "execution_count": null,
   "id": "5d5d7401-eb09-4de3-a399-ccc2c40fefa3",
   "metadata": {},
   "outputs": [],
   "source": [
    "a/b"
   ]
  },
  {
   "cell_type": "code",
   "execution_count": null,
   "id": "1db4645a-6a2a-45d6-9168-9287a57c2483",
   "metadata": {},
   "outputs": [],
   "source": [
    "b.max()"
   ]
  },
  {
   "cell_type": "code",
   "execution_count": null,
   "id": "bade9bb2-9144-4894-b4e3-525182b3773a",
   "metadata": {},
   "outputs": [],
   "source": [
    "b.min()"
   ]
  },
  {
   "cell_type": "code",
   "execution_count": null,
   "id": "552ba8fa-9945-499f-86df-fca6a6153e1e",
   "metadata": {},
   "outputs": [],
   "source": [
    "b.mean()"
   ]
  },
  {
   "cell_type": "code",
   "execution_count": null,
   "id": "8db2d63e-c817-4915-84fe-498051ec7212",
   "metadata": {},
   "outputs": [],
   "source": [
    "b.std()"
   ]
  },
  {
   "cell_type": "markdown",
   "id": "79ab3804-4c19-43f3-8439-0c42f235faf8",
   "metadata": {},
   "source": [
    "## NumPy Arrays do better indexing\n",
    "\n",
    "Now this is one of those things that really make NumPy arrays significantly better. \n",
    "\n",
    "Indexing refers to selecting elements of array. NumPy is **really** good at helping us select all kinds of combinations of elements in a very concise way.           \n",
    "Starting from the basic element access:"
   ]
  },
  {
   "cell_type": "code",
   "execution_count": null,
   "id": "b5211924-7d58-46b2-b981-ee60d6c2f7a1",
   "metadata": {},
   "outputs": [],
   "source": [
    "a = np.arange(0, 100, 1).reshape((10, 10))\n",
    "a"
   ]
  },
  {
   "cell_type": "markdown",
   "id": "27dfdc46-1cdd-4377-bcfb-ba0bc8b3d6c6",
   "metadata": {},
   "source": [
    "Same as lists, we can select rows and elements:"
   ]
  },
  {
   "cell_type": "code",
   "execution_count": null,
   "id": "0fa867c1-3bf3-4a9d-b85e-06fb1d6f0db3",
   "metadata": {},
   "outputs": [],
   "source": [
    "row = a[0]\n",
    "row"
   ]
  },
  {
   "cell_type": "code",
   "execution_count": null,
   "id": "e723f8c6-2866-4525-a5ae-f81ec0ff1ae3",
   "metadata": {},
   "outputs": [],
   "source": [
    "a[0][0]"
   ]
  },
  {
   "cell_type": "code",
   "execution_count": null,
   "id": "dd2607f7-0a17-4c84-b12f-7152cda2c263",
   "metadata": {},
   "outputs": [],
   "source": [
    "# or a shorter way\n",
    "a[0, 0]"
   ]
  },
  {
   "cell_type": "markdown",
   "id": "5a772726-dd0b-49fc-8f94-2f297d8b922d",
   "metadata": {},
   "source": [
    "By using something called a **slice** we can also select ranges. \n",
    "\n",
    "For example from 2nd element to 8th element of a row:"
   ]
  },
  {
   "cell_type": "code",
   "execution_count": null,
   "id": "08b59c92-04b5-48ef-b6e0-0528c5b46d04",
   "metadata": {},
   "outputs": [],
   "source": [
    "row[2:8]"
   ]
  },
  {
   "cell_type": "markdown",
   "id": "15e9e675-f204-408c-b1ad-89d06fe0428b",
   "metadata": {},
   "source": [
    "Or, selecting first two rows of our matrix:"
   ]
  },
  {
   "cell_type": "code",
   "execution_count": null,
   "id": "fd1d210f-bbde-46ed-bb47-8eac5339e669",
   "metadata": {},
   "outputs": [],
   "source": [
    "a[:2]"
   ]
  },
  {
   "cell_type": "markdown",
   "id": "1d8b980c-fe6b-40aa-8f61-bd17c5f842fd",
   "metadata": {},
   "source": [
    "Or, selecting all rows from 2nd onward"
   ]
  },
  {
   "cell_type": "code",
   "execution_count": null,
   "id": "3db9fe70-c353-4a6f-b405-1cf1fa4ebdee",
   "metadata": {},
   "outputs": [],
   "source": [
    "a[2:]"
   ]
  },
  {
   "cell_type": "markdown",
   "id": "9ac43afe-f9ad-4155-8c15-28b66e2ee458",
   "metadata": {},
   "source": [
    "Like we showed above, we can access elements as `a[0,0]`. So would slices work the same way?"
   ]
  },
  {
   "cell_type": "code",
   "execution_count": null,
   "id": "91b4923a-ca42-4e3d-a1a6-89b6030852a0",
   "metadata": {},
   "outputs": [],
   "source": [
    "a[2:, 0]"
   ]
  },
  {
   "cell_type": "markdown",
   "id": "ef5d0952-c603-4a94-9b32-4798ef746648",
   "metadata": {},
   "source": [
    "So that returns us all the values from the first column of the rows that are larger than the 2nd.\n",
    "\n",
    "Or, a more clearer and more useful example, let's select the first column of our matrix:"
   ]
  },
  {
   "cell_type": "code",
   "execution_count": null,
   "id": "e677c03b-0d7c-41cf-b59c-1e3126843d84",
   "metadata": {},
   "outputs": [],
   "source": [
    "col = a[:,1]\n",
    "col"
   ]
  },
  {
   "cell_type": "markdown",
   "id": "c62f24cd-e1c4-4ea5-908d-abcac81ed473",
   "metadata": {},
   "source": [
    "NumPy arrays take this even a step further - we can use some very complicated indices. For example other arrays and Boolean arrays can serve as indices too!"
   ]
  },
  {
   "cell_type": "code",
   "execution_count": null,
   "id": "7b8265ed-0431-43da-ad9f-b2b113eed399",
   "metadata": {},
   "outputs": [],
   "source": [
    "col[[5, 6, 7]]"
   ]
  },
  {
   "cell_type": "code",
   "execution_count": null,
   "id": "4935d7c7-515d-47bd-b010-7a0e04f2fd38",
   "metadata": {},
   "outputs": [],
   "source": [
    "a[[1, 2, 3], [1, 2, 3]]"
   ]
  },
  {
   "cell_type": "markdown",
   "id": "e02647df-5e39-4531-971b-426c2991c624",
   "metadata": {},
   "source": [
    "How would we combine this with something we saw above to select all elements on the diagonal?"
   ]
  },
  {
   "cell_type": "code",
   "execution_count": null,
   "id": "1599591f-b662-4362-b54d-574257adc8ac",
   "metadata": {},
   "outputs": [],
   "source": []
  },
  {
   "cell_type": "markdown",
   "id": "58e0cc25-691d-4056-a9d4-51ccce8edb4d",
   "metadata": {},
   "source": [
    "How would we create an array with a plus sign across it?"
   ]
  },
  {
   "cell_type": "code",
   "execution_count": null,
   "id": "dbd05abe-a611-40e8-9a79-9096b25ce0ec",
   "metadata": {},
   "outputs": [],
   "source": []
  },
  {
   "cell_type": "markdown",
   "id": "01c75fe8-89cb-4259-b77b-53ec8573e596",
   "metadata": {},
   "source": [
    "A change of pace a bit. What are booleans?\n",
    "\n",
    "We already mentioned we can index arrays using booleans. So let's take a look:"
   ]
  },
  {
   "cell_type": "code",
   "execution_count": null,
   "id": "a277c20b-6bd7-4655-a125-be70ba3e609e",
   "metadata": {},
   "outputs": [],
   "source": [
    "row"
   ]
  },
  {
   "cell_type": "code",
   "execution_count": null,
   "id": "9fc22bdc-85db-40d0-bb04-dd0bc0424223",
   "metadata": {},
   "outputs": [],
   "source": [
    "idx = [False] * 10\n",
    "idx[1] = True\n",
    "idx"
   ]
  },
  {
   "cell_type": "code",
   "execution_count": null,
   "id": "ffc8cad4-db73-41a6-a116-7dc40ba5e9ce",
   "metadata": {},
   "outputs": [],
   "source": [
    "row[idx]"
   ]
  },
  {
   "cell_type": "markdown",
   "id": "96f8656e-602c-45da-af88-5f63936e72bd",
   "metadata": {},
   "source": [
    "Here is how this translates if we made the same selection on our big matrix `a`:"
   ]
  },
  {
   "cell_type": "code",
   "execution_count": null,
   "id": "c4ba9ea2-884e-4e19-869c-4c1d5ce299ea",
   "metadata": {},
   "outputs": [],
   "source": [
    "a[idx]"
   ]
  },
  {
   "cell_type": "markdown",
   "id": "eb0d378a-b026-483e-bc01-4a565fb76675",
   "metadata": {},
   "source": [
    "So why go through the bother of creating a boolean array instead of just asking for any of the `a[0, 1]` or `row[1]` and `a[1]`?\n",
    "\n",
    "Most of the time it won't be us creating the array manually. Let's take a look:"
   ]
  },
  {
   "cell_type": "code",
   "execution_count": null,
   "id": "adeb35f6-c14b-4d92-9b79-9eb91e63d706",
   "metadata": {},
   "outputs": [],
   "source": [
    "a = np.zeros((9, 9))\n",
    "a"
   ]
  },
  {
   "cell_type": "code",
   "execution_count": null,
   "id": "afd1bce8-1773-4140-849e-76563af775a6",
   "metadata": {},
   "outputs": [],
   "source": [
    "a[2:7, 2:7] = np.ones((5, 5))\n",
    "a"
   ]
  },
  {
   "cell_type": "code",
   "execution_count": null,
   "id": "adfa2fb6-8e51-4bad-92fa-d5c4c52d2f5a",
   "metadata": {},
   "outputs": [],
   "source": [
    "a > 0"
   ]
  },
  {
   "cell_type": "code",
   "execution_count": null,
   "id": "80928201-b5cb-4369-876e-fc0c8d71e6a8",
   "metadata": {},
   "outputs": [],
   "source": [
    "a[a>0]"
   ]
  },
  {
   "cell_type": "markdown",
   "id": "e2148e24-b387-46d0-ba92-4c08b377d41f",
   "metadata": {},
   "source": [
    "What did we get back in the previous line? The indices or elements?\n",
    "\n",
    "Let's take a look at one more **really** useful function:"
   ]
  },
  {
   "cell_type": "code",
   "execution_count": null,
   "id": "f69ad26c-647e-4bf5-a5b7-2c9d8e77ea20",
   "metadata": {},
   "outputs": [],
   "source": [
    "np.where(a>0)"
   ]
  },
  {
   "cell_type": "markdown",
   "id": "dde8ba29-fe39-41ed-ae2b-97e7f7637c60",
   "metadata": {},
   "source": [
    "What did we get back in the previous line this time?"
   ]
  },
  {
   "cell_type": "markdown",
   "id": "c4fa6838-223a-4985-8aa7-ffc92d0ae915",
   "metadata": {},
   "source": [
    "# What is this useful for?\n",
    "\n",
    "Images are also represented by arrays. Black and white images are 2D arrays. Color images are 2D arrays where each element is an array of 3 numbers - R, G and B or 4 numbers - RGB and alpha. \n",
    "\n",
    "A lot of operators in image processing are really just summation and multiplication operations involving a kernel of some kind. Kernels are just 2D matrices that give some kind of weights or a map over neighboring pixels that are involved in the operation.\n",
    "\n",
    "Image segmentation is the process of partitioning a digital image into multiple image segments that mark distinct objects. For example, stars from galaxies and lines. \n",
    "\n",
    "Basically, most of what we will do will involve some kind of arrays, therefore it's good to understand how they work underneath the surface.       \n",
    "Here are some of the kernels, for example, that exist in OpenCV - the computer vision library that we will use."
   ]
  },
  {
   "cell_type": "code",
   "execution_count": null,
   "id": "099cf61e-90e6-4cbf-a9a9-b91a83804365",
   "metadata": {},
   "outputs": [],
   "source": [
    "cv2.getStructuringElement(cv2.MORPH_RECT, (5, 5))"
   ]
  },
  {
   "cell_type": "code",
   "execution_count": null,
   "id": "3e4fa087-880e-4b1d-b97e-833e75a64027",
   "metadata": {},
   "outputs": [],
   "source": [
    "cv2.getStructuringElement(cv2.MORPH_CROSS, (5, 5))"
   ]
  },
  {
   "cell_type": "code",
   "execution_count": null,
   "id": "484f0f50-55fa-4308-abce-9f9ee18a7bc4",
   "metadata": {},
   "outputs": [],
   "source": [
    "cv2.getStructuringElement(cv2.MORPH_ELLIPSE, (5, 5))"
   ]
  },
  {
   "cell_type": "markdown",
   "id": "f126f325-6fe5-4efd-8d6a-edcffbdb8967",
   "metadata": {},
   "source": [
    "## Quick Matplotlib rundown\n",
    "\n",
    "To prove to you that images are basically just arrays of numbers we can display. To do this though, we'll need a plotting library of sorts. The most popular one is called `matplotlib`. With it, it's real easy to dish out some basic plots quickly, but also create some really detailed and intricate ones too. \n",
    "\n",
    "It would be pretty hard to grok the complete matplotlib tutorial in short form here so I will only show couple of most basic plots below but for any additional resources you should definitely go and look at their premade tutorials: https://matplotlib.org/stable/tutorials/index.html\n",
    "\n",
    "Specifically their most [basic one](https://matplotlib.org/stable/tutorials/introductory/usage.html#sphx-glr-tutorials-introductory-usage-py) and their tutorial on [showing images](https://matplotlib.org/stable/tutorials/introductory/images.html#sphx-glr-tutorials-introductory-images-py) are good ones to start with. Here I'll only use `imshow` to plot an image. \n",
    "\n",
    "Can you guess in advance what it would look like based on the slice only?"
   ]
  },
  {
   "cell_type": "code",
   "execution_count": null,
   "id": "453e413c-00cb-4e20-aac7-12b0d80a4c9e",
   "metadata": {},
   "outputs": [],
   "source": [
    "import matplotlib.pyplot as plt\n",
    "\n",
    "img = np.zeros((100, 100))\n",
    "img[::6] = 255\n",
    "plt.imshow(img, cmap=\"gray\")"
   ]
  },
  {
   "cell_type": "markdown",
   "id": "0b1a4124-fba4-4228-b6dd-cbf2e75cd70e",
   "metadata": {},
   "source": [
    "# Summary\n",
    "\n",
    "* Images are basically 2D arrays of values\n",
    "    * manipulating them requires manipulating arrays\n",
    "* Python built-in data types are pretty cool\n",
    "    * Lists are not only mutable, they are also dynamically allocated - which means we can change element values as well as shorten or extend the list and have a list of things that don't have the same type\n",
    "    * Lists don't behave in expected ways when mathematical operators are used on them\n",
    "* NumPy is a powerful array and math library\n",
    "    * \"Numerical Python\" pretty much covers all your numerical requirements\n",
    "    * nearly all-powerful indexing\n",
    "    * behaves as expected when mathematical operators are used on it (usually they apply element-wise)\n",
    "* Matplotlib plots things \n",
    "    * pretty cool"
   ]
  },
  {
   "cell_type": "code",
   "execution_count": null,
   "id": "f217b403-a99e-4aa0-a2cc-cd5ffedc1f71",
   "metadata": {},
   "outputs": [],
   "source": []
  },
  {
   "cell_type": "code",
   "execution_count": null,
   "id": "c16efeff-4d07-48e3-810b-1eacf9e8aa96",
   "metadata": {},
   "outputs": [],
   "source": []
  }
 ],
 "metadata": {
  "kernelspec": {
   "display_name": "Python 3 (ipykernel)",
   "language": "python",
   "name": "python3"
  },
  "language_info": {
   "codemirror_mode": {
    "name": "ipython",
    "version": 3
   },
   "file_extension": ".py",
   "mimetype": "text/x-python",
   "name": "python",
   "nbconvert_exporter": "python",
   "pygments_lexer": "ipython3",
   "version": "3.9.12"
  }
 },
 "nbformat": 4,
 "nbformat_minor": 5
}
