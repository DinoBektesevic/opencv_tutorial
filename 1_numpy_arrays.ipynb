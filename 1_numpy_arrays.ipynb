{
 "cells": [
  {
   "cell_type": "markdown",
   "id": "07cd61f3-6c4d-49d0-98c2-a46ad6b7d02d",
   "metadata": {},
   "source": [
    "# Introduction to NumPy Arrays\n",
    "\n",
    "In this notebook we will showcase some basic to intermediate NumPy array manipulations which are the basis of many data processing approches in science.\n",
    "We start by importing the packages we plan to use."
   ]
  },
  {
   "cell_type": "code",
   "execution_count": null,
   "id": "5b5bb401-73f8-45d1-ac72-67ea3e04a2b4",
   "metadata": {},
   "outputs": [],
   "source": [
    "import numpy as np\n",
    "import matplotlib\n",
    "import cv2"
   ]
  },
  {
   "cell_type": "markdown",
   "id": "c11848a0-6efa-4aaa-822d-d1c1e89707d9",
   "metadata": {},
   "source": [
    "## Python lists\n",
    "\n",
    "Python already has a basic container for arrays. To demonstrate in what way NumPy arrays are different than the built-in Python lists we start by reviewing some basic use cases of Python lists.                 \n",
    "We can declare a new list by enclosing some collection of objects in brackets `[` `]`:`"
   ]
  },
  {
   "cell_type": "code",
   "execution_count": 44,
   "id": "49830fdc-3c35-43a0-abfc-5a7ba8d361b3",
   "metadata": {},
   "outputs": [
    {
     "data": {
      "text/plain": [
       "[1, 2, 3]"
      ]
     },
     "execution_count": 44,
     "metadata": {},
     "output_type": "execute_result"
    }
   ],
   "source": [
    "a = [1, 2, 3]\n",
    "a"
   ]
  },
  {
   "cell_type": "code",
   "execution_count": 8,
   "id": "232269f3-a444-45e2-9a65-35b84cbb4a51",
   "metadata": {},
   "outputs": [
    {
     "data": {
      "text/plain": [
       "['a', 'b', 'c']"
      ]
     },
     "execution_count": 8,
     "metadata": {},
     "output_type": "execute_result"
    }
   ],
   "source": [
    "b = ['a', 'b', 'c']\n",
    "b"
   ]
  },
  {
   "cell_type": "markdown",
   "id": "3a3a58ad-5f57-43a3-945b-4c7e522bdd67",
   "metadata": {},
   "source": [
    "Python lists can accept mixed type elements. "
   ]
  },
  {
   "cell_type": "code",
   "execution_count": 10,
   "id": "1fdecf1a-63ac-4ca5-ab8b-963661480f48",
   "metadata": {},
   "outputs": [
    {
     "data": {
      "text/plain": [
       "[1, 2, 'c']"
      ]
     },
     "execution_count": 10,
     "metadata": {},
     "output_type": "execute_result"
    }
   ],
   "source": [
    "c = [1, 2, 'c']\n",
    "c"
   ]
  },
  {
   "cell_type": "markdown",
   "id": "b9dbabf6-53ce-43f6-81bf-0d3bb8becc0c",
   "metadata": {},
   "source": [
    "If we want to create a matrix (a 2D list) we create a list of lists."
   ]
  },
  {
   "cell_type": "code",
   "execution_count": 12,
   "id": "2f8aecbc-7f1d-4746-a1be-15e005adb62c",
   "metadata": {},
   "outputs": [
    {
     "data": {
      "text/plain": [
       "[[1, 2, 3], [4, 5, 6]]"
      ]
     },
     "execution_count": 12,
     "metadata": {},
     "output_type": "execute_result"
    }
   ],
   "source": [
    "d = [[1, 2, 3], [4, 5, 6]]\n",
    "d"
   ]
  },
  {
   "cell_type": "markdown",
   "id": "e5dfb5ac-6e34-4848-9da0-9c378ef08539",
   "metadata": {},
   "source": [
    "We access elements of a list by using the getitem operator, denoted by adding `[]` after a variable name:"
   ]
  },
  {
   "cell_type": "code",
   "execution_count": 14,
   "id": "92306eff-69c5-44b3-81ec-c0de5b3accbe",
   "metadata": {},
   "outputs": [
    {
     "data": {
      "text/plain": [
       "1"
      ]
     },
     "execution_count": 14,
     "metadata": {},
     "output_type": "execute_result"
    }
   ],
   "source": [
    "a[0]"
   ]
  },
  {
   "cell_type": "markdown",
   "id": "38077c80-639e-4c00-9454-0fb8b3148452",
   "metadata": {},
   "source": [
    "For multi-dimensional lists this returns a row."
   ]
  },
  {
   "cell_type": "code",
   "execution_count": 15,
   "id": "09a684df-ab4c-4dec-823b-8dc77da01d49",
   "metadata": {},
   "outputs": [
    {
     "data": {
      "text/plain": [
       "[1, 2, 3]"
      ]
     },
     "execution_count": 15,
     "metadata": {},
     "output_type": "execute_result"
    }
   ],
   "source": [
    "d[0]"
   ]
  },
  {
   "cell_type": "markdown",
   "id": "3ca60f15-df92-41a7-8f69-66e55bd91fd1",
   "metadata": {},
   "source": [
    "So to access an element we need to access the row-index and then the column-index of the elemnent we want."
   ]
  },
  {
   "cell_type": "code",
   "execution_count": 16,
   "id": "12628685-81e3-4735-826c-2b594eeb64bc",
   "metadata": {},
   "outputs": [
    {
     "data": {
      "text/plain": [
       "1"
      ]
     },
     "execution_count": 16,
     "metadata": {},
     "output_type": "execute_result"
    }
   ],
   "source": [
    "d[0][0]"
   ]
  },
  {
   "cell_type": "code",
   "execution_count": 17,
   "id": "57706631-1f14-449f-8393-3554991cda38",
   "metadata": {},
   "outputs": [
    {
     "data": {
      "text/plain": [
       "4"
      ]
     },
     "execution_count": 17,
     "metadata": {},
     "output_type": "execute_result"
    }
   ],
   "source": [
    "d[1][0]"
   ]
  },
  {
   "cell_type": "markdown",
   "id": "1c613831-77cb-420f-8f33-3d881967c6ca",
   "metadata": {},
   "source": [
    "The main benefit of built-in lists is that they are mutable. This means we can dynamically add more elements to that list.           \n",
    "For example, to add a single number to list `a=[1, 2, 3]` we can do:"
   ]
  },
  {
   "cell_type": "code",
   "execution_count": 18,
   "id": "9d4c58c7-87b4-4720-88eb-641443f810a1",
   "metadata": {},
   "outputs": [
    {
     "data": {
      "text/plain": [
       "[1, 2, 3, 4]"
      ]
     },
     "execution_count": 18,
     "metadata": {},
     "output_type": "execute_result"
    }
   ],
   "source": [
    "a.append(4)\n",
    "a"
   ]
  },
  {
   "cell_type": "markdown",
   "id": "bd74060a-1fdc-49f4-acf4-00e4e3f834ad",
   "metadata": {},
   "source": [
    "To add an collection of elements we can use the extend method:"
   ]
  },
  {
   "cell_type": "code",
   "execution_count": 19,
   "id": "b39537d7-7d18-4cff-921f-6a07f773afe2",
   "metadata": {},
   "outputs": [
    {
     "data": {
      "text/plain": [
       "[1, 2, 3, 4, 5, 6, 7]"
      ]
     },
     "execution_count": 19,
     "metadata": {},
     "output_type": "execute_result"
    }
   ],
   "source": [
    "a.extend([5, 6, 7])\n",
    "a"
   ]
  },
  {
   "cell_type": "markdown",
   "id": "559d6626-7a97-484a-a940-d11cb73354c4",
   "metadata": {},
   "source": [
    "We can even add elements that do not contain the same type as others in a list:"
   ]
  },
  {
   "cell_type": "code",
   "execution_count": 20,
   "id": "043883b7-35ce-4ca3-abb5-bcd7f5c17b8f",
   "metadata": {},
   "outputs": [
    {
     "data": {
      "text/plain": [
       "[1, 2, 3, 4, 5, 6, 7, 'a']"
      ]
     },
     "execution_count": 20,
     "metadata": {},
     "output_type": "execute_result"
    }
   ],
   "source": [
    "a.append('a')\n",
    "a"
   ]
  },
  {
   "cell_type": "markdown",
   "id": "db1e492f-7454-4ceb-9f62-62939009b1f5",
   "metadata": {},
   "source": [
    "### So what's the issue?\n",
    "\n",
    "This is all fantastic and grand. So why do we need NumPy arrays then and what's the difference?\n",
    "\n",
    "For starters, let's say we wanted to multiple all elements of a list by some number?                 \n",
    "What do you think the following command will return as a result?"
   ]
  },
  {
   "cell_type": "code",
   "execution_count": 21,
   "id": "7225ff2f-23ab-4e69-af7c-d8625ad00169",
   "metadata": {},
   "outputs": [
    {
     "data": {
      "text/plain": [
       "[1, 1, 1, 1, 1, 1, 1]"
      ]
     },
     "execution_count": 21,
     "metadata": {},
     "output_type": "execute_result"
    }
   ],
   "source": [
    "a = [1]*7\n",
    "a"
   ]
  },
  {
   "cell_type": "markdown",
   "id": "f2e4a21d-70ed-4104-9591-c0bdcbcd7a45",
   "metadata": {},
   "source": [
    "Why do you think this is what they decided the result should be?\n",
    "\n",
    "What about the following?"
   ]
  },
  {
   "cell_type": "code",
   "execution_count": 46,
   "id": "bf576180-71a1-4fbb-a290-2d9390178628",
   "metadata": {},
   "outputs": [
    {
     "data": {
      "text/plain": [
       "[1, 2, 3, 1, 2, 3]"
      ]
     },
     "execution_count": 46,
     "metadata": {},
     "output_type": "execute_result"
    }
   ],
   "source": [
    "a + a"
   ]
  },
  {
   "cell_type": "markdown",
   "id": "8bc8196b-ddae-4e5e-b77d-8c360bf5150c",
   "metadata": {},
   "source": [
    "Think also, how would you select a column of elements from a big array?"
   ]
  },
  {
   "cell_type": "code",
   "execution_count": 72,
   "id": "5259fcb1-c69f-466c-ba36-71a2847af7e1",
   "metadata": {},
   "outputs": [
    {
     "data": {
      "text/plain": [
       "[[1, 2, 3], [4, 5, 6], [7, 8, 9]]"
      ]
     },
     "execution_count": 72,
     "metadata": {},
     "output_type": "execute_result"
    }
   ],
   "source": [
    "a = [[1, 2, 3], [4, 5, 6], [7, 8, 9]]\n",
    "a"
   ]
  },
  {
   "cell_type": "code",
   "execution_count": null,
   "id": "0189933f-e3fd-4f03-acc2-ec7bba06ce6a",
   "metadata": {},
   "outputs": [],
   "source": []
  },
  {
   "cell_type": "markdown",
   "id": "42e0e3c9-ceb8-4cce-a85d-3658caf15b3e",
   "metadata": {},
   "source": [
    "## NumPy Arrays\n",
    "\n",
    "There are many (many) ways to create a NumPy array.         \n",
    "For example, we can create them from lists"
   ]
  },
  {
   "cell_type": "code",
   "execution_count": 22,
   "id": "0dfcd461-8643-4c7f-aea9-c509f2a4e065",
   "metadata": {},
   "outputs": [
    {
     "data": {
      "text/plain": [
       "array([1, 2, 3])"
      ]
     },
     "execution_count": 22,
     "metadata": {},
     "output_type": "execute_result"
    }
   ],
   "source": [
    "a = np.array([1, 2, 3])\n",
    "a"
   ]
  },
  {
   "cell_type": "code",
   "execution_count": 26,
   "id": "348d63d7-d025-4a89-90d0-61b9f0f87f1b",
   "metadata": {},
   "outputs": [
    {
     "data": {
      "text/plain": [
       "array([[1, 2, 3],\n",
       "       [4, 5, 6]])"
      ]
     },
     "execution_count": 26,
     "metadata": {},
     "output_type": "execute_result"
    }
   ],
   "source": [
    "b = np.array( [[1,2,3], [4,5,6]] )\n",
    "b"
   ]
  },
  {
   "cell_type": "markdown",
   "id": "051c6b10-3c0c-45f7-bee5-a6c1f9548d89",
   "metadata": {},
   "source": [
    "What do you think the following will result in?"
   ]
  },
  {
   "cell_type": "code",
   "execution_count": 25,
   "id": "f5704134-fe68-4bc3-8ff3-0f24c102d282",
   "metadata": {},
   "outputs": [
    {
     "data": {
      "text/plain": [
       "array(['1', '2', 'a'], dtype='<U21')"
      ]
     },
     "execution_count": 25,
     "metadata": {},
     "output_type": "execute_result"
    }
   ],
   "source": [
    "b = np.array([1, 2, 'a'])\n",
    "b"
   ]
  },
  {
   "cell_type": "markdown",
   "id": "ea571984-eeda-4fa8-916b-f4d5da1b1fb4",
   "metadata": {},
   "source": [
    "Obviously, the first difference between NumPy arrays and lists is that NumPy arrays can only contain elements of the same type. \n",
    "\n",
    "There are *very* many ways to create numpy arrays. You are not expected to know all of them. Let's take a look at some other ways to create arrays nonetheless.          \n",
    "We can create an array of zeros by specifying the \"shape\", i.e. the dimensions, of the matrix:"
   ]
  },
  {
   "cell_type": "code",
   "execution_count": 28,
   "id": "2feb34d7-6c55-4bba-a91d-58aff4e7cf8d",
   "metadata": {},
   "outputs": [
    {
     "data": {
      "text/plain": [
       "array([[0., 0.],\n",
       "       [0., 0.],\n",
       "       [0., 0.]])"
      ]
     },
     "execution_count": 28,
     "metadata": {},
     "output_type": "execute_result"
    }
   ],
   "source": [
    "np.zeros((3, 2))"
   ]
  },
  {
   "cell_type": "markdown",
   "id": "f0f9443c-b6be-4f12-b332-c8d2519188c4",
   "metadata": {},
   "source": [
    "An array of ones in some shape:"
   ]
  },
  {
   "cell_type": "code",
   "execution_count": 29,
   "id": "39bd6d50-014f-477c-9e6a-765eece371c2",
   "metadata": {},
   "outputs": [
    {
     "data": {
      "text/plain": [
       "array([[1., 1., 1.],\n",
       "       [1., 1., 1.]])"
      ]
     },
     "execution_count": 29,
     "metadata": {},
     "output_type": "execute_result"
    }
   ],
   "source": [
    "np.ones((2, 3))"
   ]
  },
  {
   "cell_type": "markdown",
   "id": "d8db1f3c-a569-4fb1-967e-c6d1185cae00",
   "metadata": {},
   "source": [
    "We can create an array of N equally separated numbers in some range (inclusive) as:"
   ]
  },
  {
   "cell_type": "code",
   "execution_count": 32,
   "id": "041ed407-36c5-43d0-9b9f-36d3f34e744f",
   "metadata": {},
   "outputs": [
    {
     "data": {
      "text/plain": [
       "array([ 0.,  2.,  4.,  6.,  8., 10.])"
      ]
     },
     "execution_count": 32,
     "metadata": {},
     "output_type": "execute_result"
    }
   ],
   "source": [
    "np.linspace(0, 10, 6)"
   ]
  },
  {
   "cell_type": "markdown",
   "id": "e41ea6a5-139b-45aa-92bf-c0bccb030c36",
   "metadata": {},
   "source": [
    "Or we can arange numbers in some range by specifying a step:"
   ]
  },
  {
   "cell_type": "code",
   "execution_count": 33,
   "id": "4238366a-40bf-44b0-9a19-32a3ca98135c",
   "metadata": {},
   "outputs": [
    {
     "data": {
      "text/plain": [
       "array([0, 2, 4, 6, 8])"
      ]
     },
     "execution_count": 33,
     "metadata": {},
     "output_type": "execute_result"
    }
   ],
   "source": [
    "np.arange(0, 10, 2)"
   ]
  },
  {
   "cell_type": "markdown",
   "id": "c89e8816-13b7-40e8-92de-0dcac268d73e",
   "metadata": {},
   "source": [
    "The last two methods, the `linspace` and `arange`, are already pretty useful. But they are even more powerful when combined with another method.       \n",
    "The `reshape` method reorders the given array into the given shape. Note that the number of elements has to equally divide into the given shape."
   ]
  },
  {
   "cell_type": "code",
   "execution_count": 60,
   "id": "b2986803-3c9c-4fcf-8237-fee41f4232ce",
   "metadata": {},
   "outputs": [
    {
     "data": {
      "text/plain": [
       "array([[0, 1],\n",
       "       [2, 3],\n",
       "       [4, 5],\n",
       "       [6, 7],\n",
       "       [8, 9]])"
      ]
     },
     "execution_count": 60,
     "metadata": {},
     "output_type": "execute_result"
    }
   ],
   "source": [
    "a = np.arange(0, 10, 1)\n",
    "a.reshape((5, 2))"
   ]
  },
  {
   "cell_type": "markdown",
   "id": "19bc4985-8d8e-4417-ae97-6786007537d7",
   "metadata": {},
   "source": [
    "A neat trick is to let NumPy pick the size of one of the dimensions:"
   ]
  },
  {
   "cell_type": "code",
   "execution_count": 61,
   "id": "6e286125-3417-438d-83f0-090a81f8fde6",
   "metadata": {},
   "outputs": [
    {
     "data": {
      "text/plain": [
       "array([[0, 1, 2, 3, 4],\n",
       "       [5, 6, 7, 8, 9]])"
      ]
     },
     "execution_count": 61,
     "metadata": {},
     "output_type": "execute_result"
    }
   ],
   "source": [
    "a = a.reshape((2, -1))\n",
    "a"
   ]
  },
  {
   "cell_type": "markdown",
   "id": "1f5ba864-b4ae-41f9-9eeb-88d7c4543d91",
   "metadata": {},
   "source": [
    "This is hardly all of the possible ways to create NumPy arrays, for all the cool specialized functions check out the NumPy Manual:     \n",
    "https://numpy.org/doc/stable/user/basics.creation.html                \n",
    "which I recommend heartily as a reference if ever you get stuck. If you need something, chances are NumPy already has it and you just have to find it.\n",
    "\n",
    "Here are two more ways that I find (oddly) practical:"
   ]
  },
  {
   "cell_type": "code",
   "execution_count": 84,
   "id": "098333b4-f17e-44ca-b3c2-dc799636a6d0",
   "metadata": {},
   "outputs": [
    {
     "data": {
      "text/plain": [
       "array([[1., 0., 0.],\n",
       "       [0., 1., 0.],\n",
       "       [0., 0., 1.]])"
      ]
     },
     "execution_count": 84,
     "metadata": {},
     "output_type": "execute_result"
    }
   ],
   "source": [
    "np.eye(3, 3)"
   ]
  },
  {
   "cell_type": "code",
   "execution_count": 86,
   "id": "778f76b5-11fa-4bd8-8bee-d5dd68a77e61",
   "metadata": {},
   "outputs": [
    {
     "data": {
      "text/plain": [
       "array([[1, 0, 0],\n",
       "       [0, 2, 0],\n",
       "       [0, 0, 3]])"
      ]
     },
     "execution_count": 86,
     "metadata": {},
     "output_type": "execute_result"
    }
   ],
   "source": [
    "np.diag((1, 2, 3))"
   ]
  },
  {
   "cell_type": "markdown",
   "id": "39594ca3-81d1-4a5c-bad3-7af000f0b3a5",
   "metadata": {},
   "source": [
    "## NumPy Arrays do math\n",
    "\n",
    "The big reason why NumPy arrays are more useful to us than lists is that they actually do math. "
   ]
  },
  {
   "cell_type": "code",
   "execution_count": 63,
   "id": "792a9e2c-9e0b-42fa-a0a4-88098646bf71",
   "metadata": {},
   "outputs": [
    {
     "name": "stdout",
     "output_type": "stream",
     "text": [
      "[1. 1. 1. 1. 1. 1. 1. 1. 1. 1.]\n",
      "[ 1  2  3  4  5  6  7  8  9 10]\n"
     ]
    }
   ],
   "source": [
    "a = np.ones((10, ))\n",
    "b = np.arange(1, 11, 1)\n",
    "print(a)\n",
    "print(b)"
   ]
  },
  {
   "cell_type": "code",
   "execution_count": 52,
   "id": "ea520528-b65b-4157-9b16-23ca96f0b146",
   "metadata": {},
   "outputs": [
    {
     "data": {
      "text/plain": [
       "array([ 2.,  3.,  4.,  5.,  6.,  7.,  8.,  9., 10., 11.])"
      ]
     },
     "execution_count": 52,
     "metadata": {},
     "output_type": "execute_result"
    }
   ],
   "source": [
    "a + b"
   ]
  },
  {
   "cell_type": "code",
   "execution_count": 64,
   "id": "039af870-c5ef-42bd-bd09-337743ff6786",
   "metadata": {},
   "outputs": [
    {
     "data": {
      "text/plain": [
       "array([2., 2., 2., 2., 2., 2., 2., 2., 2., 2.])"
      ]
     },
     "execution_count": 64,
     "metadata": {},
     "output_type": "execute_result"
    }
   ],
   "source": [
    "a + 1"
   ]
  },
  {
   "cell_type": "code",
   "execution_count": 65,
   "id": "c59bf4b7-cbae-4ad2-abfd-72bd7e556908",
   "metadata": {},
   "outputs": [
    {
     "data": {
      "text/plain": [
       "array([7., 7., 7., 7., 7., 7., 7., 7., 7., 7.])"
      ]
     },
     "execution_count": 65,
     "metadata": {},
     "output_type": "execute_result"
    }
   ],
   "source": [
    "a*7"
   ]
  },
  {
   "cell_type": "code",
   "execution_count": 53,
   "id": "5d5d7401-eb09-4de3-a399-ccc2c40fefa3",
   "metadata": {},
   "outputs": [
    {
     "data": {
      "text/plain": [
       "array([1.        , 0.5       , 0.33333333, 0.25      , 0.2       ,\n",
       "       0.16666667, 0.14285714, 0.125     , 0.11111111, 0.1       ])"
      ]
     },
     "execution_count": 53,
     "metadata": {},
     "output_type": "execute_result"
    }
   ],
   "source": [
    "a/b"
   ]
  },
  {
   "cell_type": "code",
   "execution_count": 54,
   "id": "1db4645a-6a2a-45d6-9168-9287a57c2483",
   "metadata": {},
   "outputs": [
    {
     "data": {
      "text/plain": [
       "10"
      ]
     },
     "execution_count": 54,
     "metadata": {},
     "output_type": "execute_result"
    }
   ],
   "source": [
    "b.max()"
   ]
  },
  {
   "cell_type": "code",
   "execution_count": 55,
   "id": "bade9bb2-9144-4894-b4e3-525182b3773a",
   "metadata": {},
   "outputs": [
    {
     "data": {
      "text/plain": [
       "1"
      ]
     },
     "execution_count": 55,
     "metadata": {},
     "output_type": "execute_result"
    }
   ],
   "source": [
    "b.min()"
   ]
  },
  {
   "cell_type": "code",
   "execution_count": 56,
   "id": "552ba8fa-9945-499f-86df-fca6a6153e1e",
   "metadata": {},
   "outputs": [
    {
     "data": {
      "text/plain": [
       "5.5"
      ]
     },
     "execution_count": 56,
     "metadata": {},
     "output_type": "execute_result"
    }
   ],
   "source": [
    "b.mean()"
   ]
  },
  {
   "cell_type": "code",
   "execution_count": 57,
   "id": "8db2d63e-c817-4915-84fe-498051ec7212",
   "metadata": {},
   "outputs": [
    {
     "data": {
      "text/plain": [
       "2.8722813232690143"
      ]
     },
     "execution_count": 57,
     "metadata": {},
     "output_type": "execute_result"
    }
   ],
   "source": [
    "b.std()"
   ]
  },
  {
   "cell_type": "markdown",
   "id": "79ab3804-4c19-43f3-8439-0c42f235faf8",
   "metadata": {},
   "source": [
    "## NumPy Arrays do better indexing\n",
    "\n",
    "Now this is one of those things that really make NumPy arrays significantly better. \n",
    "\n",
    "Indexing refers to selecting elements of array. NumPy is **really** good at helping us select all kinds of combinations of elements in a very concise way.           \n",
    "Starting from the basic element access:"
   ]
  },
  {
   "cell_type": "code",
   "execution_count": 74,
   "id": "b5211924-7d58-46b2-b981-ee60d6c2f7a1",
   "metadata": {},
   "outputs": [
    {
     "data": {
      "text/plain": [
       "array([[ 0,  1,  2,  3,  4,  5,  6,  7,  8,  9],\n",
       "       [10, 11, 12, 13, 14, 15, 16, 17, 18, 19],\n",
       "       [20, 21, 22, 23, 24, 25, 26, 27, 28, 29],\n",
       "       [30, 31, 32, 33, 34, 35, 36, 37, 38, 39],\n",
       "       [40, 41, 42, 43, 44, 45, 46, 47, 48, 49],\n",
       "       [50, 51, 52, 53, 54, 55, 56, 57, 58, 59],\n",
       "       [60, 61, 62, 63, 64, 65, 66, 67, 68, 69],\n",
       "       [70, 71, 72, 73, 74, 75, 76, 77, 78, 79],\n",
       "       [80, 81, 82, 83, 84, 85, 86, 87, 88, 89],\n",
       "       [90, 91, 92, 93, 94, 95, 96, 97, 98, 99]])"
      ]
     },
     "execution_count": 74,
     "metadata": {},
     "output_type": "execute_result"
    }
   ],
   "source": [
    "a = np.arange(0, 100, 1).reshape((10, 10))\n",
    "a"
   ]
  },
  {
   "cell_type": "markdown",
   "id": "27dfdc46-1cdd-4377-bcfb-ba0bc8b3d6c6",
   "metadata": {},
   "source": [
    "Same as lists, we can select rows and elements:"
   ]
  },
  {
   "cell_type": "code",
   "execution_count": 75,
   "id": "0fa867c1-3bf3-4a9d-b85e-06fb1d6f0db3",
   "metadata": {},
   "outputs": [
    {
     "data": {
      "text/plain": [
       "array([0, 1, 2, 3, 4, 5, 6, 7, 8, 9])"
      ]
     },
     "execution_count": 75,
     "metadata": {},
     "output_type": "execute_result"
    }
   ],
   "source": [
    "row = a[0]\n",
    "row"
   ]
  },
  {
   "cell_type": "code",
   "execution_count": 70,
   "id": "e723f8c6-2866-4525-a5ae-f81ec0ff1ae3",
   "metadata": {},
   "outputs": [
    {
     "data": {
      "text/plain": [
       "0"
      ]
     },
     "execution_count": 70,
     "metadata": {},
     "output_type": "execute_result"
    }
   ],
   "source": [
    "a[0][0]"
   ]
  },
  {
   "cell_type": "code",
   "execution_count": 71,
   "id": "dd2607f7-0a17-4c84-b12f-7152cda2c263",
   "metadata": {},
   "outputs": [
    {
     "data": {
      "text/plain": [
       "0"
      ]
     },
     "execution_count": 71,
     "metadata": {},
     "output_type": "execute_result"
    }
   ],
   "source": [
    "# or a shorter way\n",
    "a[0, 0]"
   ]
  },
  {
   "cell_type": "markdown",
   "id": "5a772726-dd0b-49fc-8f94-2f297d8b922d",
   "metadata": {},
   "source": [
    "By using something called a **slice** we can also select ranges. \n",
    "\n",
    "For example from 2nd element to 8th element of a row:"
   ]
  },
  {
   "cell_type": "code",
   "execution_count": 76,
   "id": "08b59c92-04b5-48ef-b6e0-0528c5b46d04",
   "metadata": {},
   "outputs": [
    {
     "data": {
      "text/plain": [
       "array([2, 3, 4, 5, 6, 7])"
      ]
     },
     "execution_count": 76,
     "metadata": {},
     "output_type": "execute_result"
    }
   ],
   "source": [
    "row[2:8]"
   ]
  },
  {
   "cell_type": "markdown",
   "id": "15e9e675-f204-408c-b1ad-89d06fe0428b",
   "metadata": {},
   "source": [
    "Or, selecting first two rows of our matrix:"
   ]
  },
  {
   "cell_type": "code",
   "execution_count": 77,
   "id": "fd1d210f-bbde-46ed-bb47-8eac5339e669",
   "metadata": {},
   "outputs": [
    {
     "data": {
      "text/plain": [
       "array([[ 0,  1,  2,  3,  4,  5,  6,  7,  8,  9],\n",
       "       [10, 11, 12, 13, 14, 15, 16, 17, 18, 19]])"
      ]
     },
     "execution_count": 77,
     "metadata": {},
     "output_type": "execute_result"
    }
   ],
   "source": [
    "a[:2]"
   ]
  },
  {
   "cell_type": "markdown",
   "id": "1d8b980c-fe6b-40aa-8f61-bd17c5f842fd",
   "metadata": {},
   "source": [
    "Or, selecting all rows from 2nd onward"
   ]
  },
  {
   "cell_type": "code",
   "execution_count": 78,
   "id": "3db9fe70-c353-4a6f-b405-1cf1fa4ebdee",
   "metadata": {},
   "outputs": [
    {
     "data": {
      "text/plain": [
       "array([[20, 21, 22, 23, 24, 25, 26, 27, 28, 29],\n",
       "       [30, 31, 32, 33, 34, 35, 36, 37, 38, 39],\n",
       "       [40, 41, 42, 43, 44, 45, 46, 47, 48, 49],\n",
       "       [50, 51, 52, 53, 54, 55, 56, 57, 58, 59],\n",
       "       [60, 61, 62, 63, 64, 65, 66, 67, 68, 69],\n",
       "       [70, 71, 72, 73, 74, 75, 76, 77, 78, 79],\n",
       "       [80, 81, 82, 83, 84, 85, 86, 87, 88, 89],\n",
       "       [90, 91, 92, 93, 94, 95, 96, 97, 98, 99]])"
      ]
     },
     "execution_count": 78,
     "metadata": {},
     "output_type": "execute_result"
    }
   ],
   "source": [
    "a[2:]"
   ]
  },
  {
   "cell_type": "markdown",
   "id": "9ac43afe-f9ad-4155-8c15-28b66e2ee458",
   "metadata": {},
   "source": [
    "Like we showed above, we can access elements as `a[0,0]`. So would slices work the same way?"
   ]
  },
  {
   "cell_type": "code",
   "execution_count": 79,
   "id": "91b4923a-ca42-4e3d-a1a6-89b6030852a0",
   "metadata": {},
   "outputs": [
    {
     "data": {
      "text/plain": [
       "array([20, 30, 40, 50, 60, 70, 80, 90])"
      ]
     },
     "execution_count": 79,
     "metadata": {},
     "output_type": "execute_result"
    }
   ],
   "source": [
    "a[2:, 0]"
   ]
  },
  {
   "cell_type": "markdown",
   "id": "ef5d0952-c603-4a94-9b32-4798ef746648",
   "metadata": {},
   "source": [
    "So that returns us all the values from the first column of the rows that are larger than the 2nd.\n",
    "\n",
    "Or, a more clearer and more useful example, let's select the first column of our matrix:"
   ]
  },
  {
   "cell_type": "code",
   "execution_count": 83,
   "id": "e677c03b-0d7c-41cf-b59c-1e3126843d84",
   "metadata": {},
   "outputs": [
    {
     "data": {
      "text/plain": [
       "array([ 1, 11, 21, 31, 41, 51, 61, 71, 81, 91])"
      ]
     },
     "execution_count": 83,
     "metadata": {},
     "output_type": "execute_result"
    }
   ],
   "source": [
    "col = a[:,1]\n",
    "col"
   ]
  },
  {
   "cell_type": "markdown",
   "id": "c62f24cd-e1c4-4ea5-908d-abcac81ed473",
   "metadata": {},
   "source": [
    "NumPy arrays take this even a step further - we can use some very complicated indices. For example other arays and boolean arrays can serve as indices too!"
   ]
  },
  {
   "cell_type": "code",
   "execution_count": 90,
   "id": "7b8265ed-0431-43da-ad9f-b2b113eed399",
   "metadata": {},
   "outputs": [
    {
     "data": {
      "text/plain": [
       "array([51, 61, 71])"
      ]
     },
     "execution_count": 90,
     "metadata": {},
     "output_type": "execute_result"
    }
   ],
   "source": [
    "col[[5, 6, 7]]"
   ]
  },
  {
   "cell_type": "code",
   "execution_count": 92,
   "id": "4935d7c7-515d-47bd-b010-7a0e04f2fd38",
   "metadata": {},
   "outputs": [
    {
     "data": {
      "text/plain": [
       "array([ 0, 11, 22])"
      ]
     },
     "execution_count": 92,
     "metadata": {},
     "output_type": "execute_result"
    }
   ],
   "source": [
    "a[[1, 2, 3], [1, 2, 3]]"
   ]
  },
  {
   "cell_type": "markdown",
   "id": "e02647df-5e39-4531-971b-426c2991c624",
   "metadata": {},
   "source": [
    "How would we combine this with something we saw above to select all elements on the diagonal?"
   ]
  },
  {
   "cell_type": "code",
   "execution_count": null,
   "id": "1599591f-b662-4362-b54d-574257adc8ac",
   "metadata": {},
   "outputs": [],
   "source": []
  },
  {
   "cell_type": "markdown",
   "id": "58e0cc25-691d-4056-a9d4-51ccce8edb4d",
   "metadata": {},
   "source": [
    "How would we create an array with a plus sign across it?"
   ]
  },
  {
   "cell_type": "code",
   "execution_count": null,
   "id": "dbd05abe-a611-40e8-9a79-9096b25ce0ec",
   "metadata": {},
   "outputs": [],
   "source": []
  },
  {
   "cell_type": "markdown",
   "id": "01c75fe8-89cb-4259-b77b-53ec8573e596",
   "metadata": {},
   "source": [
    "A change of pace a bit. What are booleans?\n",
    "\n",
    "We already mentioned we can index arrays using booleans. So let's take a look:"
   ]
  },
  {
   "cell_type": "code",
   "execution_count": 104,
   "id": "a277c20b-6bd7-4655-a125-be70ba3e609e",
   "metadata": {},
   "outputs": [
    {
     "data": {
      "text/plain": [
       "array([0, 1, 2, 3, 4, 5, 6, 7, 8, 9])"
      ]
     },
     "execution_count": 104,
     "metadata": {},
     "output_type": "execute_result"
    }
   ],
   "source": [
    "row"
   ]
  },
  {
   "cell_type": "code",
   "execution_count": 108,
   "id": "9fc22bdc-85db-40d0-bb04-dd0bc0424223",
   "metadata": {},
   "outputs": [
    {
     "data": {
      "text/plain": [
       "[False, True, False, False, False, False, False, False, False, False]"
      ]
     },
     "execution_count": 108,
     "metadata": {},
     "output_type": "execute_result"
    }
   ],
   "source": [
    "idx = [False] * 10\n",
    "idx[1] = True\n",
    "idx"
   ]
  },
  {
   "cell_type": "code",
   "execution_count": 107,
   "id": "ffc8cad4-db73-41a6-a116-7dc40ba5e9ce",
   "metadata": {},
   "outputs": [
    {
     "data": {
      "text/plain": [
       "array([1])"
      ]
     },
     "execution_count": 107,
     "metadata": {},
     "output_type": "execute_result"
    }
   ],
   "source": [
    "row[idx]"
   ]
  },
  {
   "cell_type": "markdown",
   "id": "96f8656e-602c-45da-af88-5f63936e72bd",
   "metadata": {},
   "source": [
    "Here is how this translates if we made the same selection on our big matrix `a`:"
   ]
  },
  {
   "cell_type": "code",
   "execution_count": 109,
   "id": "c4ba9ea2-884e-4e19-869c-4c1d5ce299ea",
   "metadata": {},
   "outputs": [
    {
     "data": {
      "text/plain": [
       "array([[10, 11, 12, 13, 14, 15, 16, 17, 18, 19]])"
      ]
     },
     "execution_count": 109,
     "metadata": {},
     "output_type": "execute_result"
    }
   ],
   "source": [
    "a[idx]"
   ]
  },
  {
   "cell_type": "markdown",
   "id": "eb0d378a-b026-483e-bc01-4a565fb76675",
   "metadata": {},
   "source": [
    "So why go through the bother of creating a boolean array instead of just asking for any of the `a[0, 1]` or `row[1]` and `a[1]`?\n",
    "\n",
    "Most of the time it won't be us creating the array manually. Let's take a look:"
   ]
  },
  {
   "cell_type": "code",
   "execution_count": 120,
   "id": "adeb35f6-c14b-4d92-9b79-9eb91e63d706",
   "metadata": {},
   "outputs": [
    {
     "data": {
      "text/plain": [
       "array([[0., 0., 0., 0., 0., 0., 0., 0., 0.],\n",
       "       [0., 0., 0., 0., 0., 0., 0., 0., 0.],\n",
       "       [0., 0., 0., 0., 0., 0., 0., 0., 0.],\n",
       "       [0., 0., 0., 0., 0., 0., 0., 0., 0.],\n",
       "       [0., 0., 0., 0., 0., 0., 0., 0., 0.],\n",
       "       [0., 0., 0., 0., 0., 0., 0., 0., 0.],\n",
       "       [0., 0., 0., 0., 0., 0., 0., 0., 0.],\n",
       "       [0., 0., 0., 0., 0., 0., 0., 0., 0.],\n",
       "       [0., 0., 0., 0., 0., 0., 0., 0., 0.]])"
      ]
     },
     "execution_count": 120,
     "metadata": {},
     "output_type": "execute_result"
    }
   ],
   "source": [
    "a = np.zeros((9, 9))\n",
    "a"
   ]
  },
  {
   "cell_type": "code",
   "execution_count": 123,
   "id": "afd1bce8-1773-4140-849e-76563af775a6",
   "metadata": {},
   "outputs": [
    {
     "data": {
      "text/plain": [
       "array([[0., 0., 0., 0., 0., 0., 0., 0., 0.],\n",
       "       [0., 0., 0., 0., 0., 0., 0., 0., 0.],\n",
       "       [0., 0., 1., 1., 1., 1., 1., 0., 0.],\n",
       "       [0., 0., 1., 1., 1., 1., 1., 0., 0.],\n",
       "       [0., 0., 1., 1., 1., 1., 1., 0., 0.],\n",
       "       [0., 0., 1., 1., 1., 1., 1., 0., 0.],\n",
       "       [0., 0., 1., 1., 1., 1., 1., 0., 0.],\n",
       "       [0., 0., 0., 0., 0., 0., 0., 0., 0.],\n",
       "       [0., 0., 0., 0., 0., 0., 0., 0., 0.]])"
      ]
     },
     "execution_count": 123,
     "metadata": {},
     "output_type": "execute_result"
    }
   ],
   "source": [
    "a[2:7, 2:7] = np.ones((5, 5))\n",
    "a"
   ]
  },
  {
   "cell_type": "code",
   "execution_count": 124,
   "id": "adfa2fb6-8e51-4bad-92fa-d5c4c52d2f5a",
   "metadata": {},
   "outputs": [
    {
     "data": {
      "text/plain": [
       "array([[False, False, False, False, False, False, False, False, False],\n",
       "       [False, False, False, False, False, False, False, False, False],\n",
       "       [False, False,  True,  True,  True,  True,  True, False, False],\n",
       "       [False, False,  True,  True,  True,  True,  True, False, False],\n",
       "       [False, False,  True,  True,  True,  True,  True, False, False],\n",
       "       [False, False,  True,  True,  True,  True,  True, False, False],\n",
       "       [False, False,  True,  True,  True,  True,  True, False, False],\n",
       "       [False, False, False, False, False, False, False, False, False],\n",
       "       [False, False, False, False, False, False, False, False, False]])"
      ]
     },
     "execution_count": 124,
     "metadata": {},
     "output_type": "execute_result"
    }
   ],
   "source": [
    "a > 0"
   ]
  },
  {
   "cell_type": "code",
   "execution_count": 125,
   "id": "80928201-b5cb-4369-876e-fc0c8d71e6a8",
   "metadata": {},
   "outputs": [
    {
     "data": {
      "text/plain": [
       "array([1., 1., 1., 1., 1., 1., 1., 1., 1., 1., 1., 1., 1., 1., 1., 1., 1.,\n",
       "       1., 1., 1., 1., 1., 1., 1., 1.])"
      ]
     },
     "execution_count": 125,
     "metadata": {},
     "output_type": "execute_result"
    }
   ],
   "source": [
    "a[a>0]"
   ]
  },
  {
   "cell_type": "markdown",
   "id": "e2148e24-b387-46d0-ba92-4c08b377d41f",
   "metadata": {},
   "source": [
    "What did we get back in the previous line? The indices or elements?\n",
    "\n",
    "Let's take a look at one more **really** useful function:"
   ]
  },
  {
   "cell_type": "code",
   "execution_count": 126,
   "id": "f69ad26c-647e-4bf5-a5b7-2c9d8e77ea20",
   "metadata": {},
   "outputs": [
    {
     "data": {
      "text/plain": [
       "(array([2, 2, 2, 2, 2, 3, 3, 3, 3, 3, 4, 4, 4, 4, 4, 5, 5, 5, 5, 5, 6, 6,\n",
       "        6, 6, 6]),\n",
       " array([2, 3, 4, 5, 6, 2, 3, 4, 5, 6, 2, 3, 4, 5, 6, 2, 3, 4, 5, 6, 2, 3,\n",
       "        4, 5, 6]))"
      ]
     },
     "execution_count": 126,
     "metadata": {},
     "output_type": "execute_result"
    }
   ],
   "source": [
    "np.where(a>0)"
   ]
  },
  {
   "cell_type": "markdown",
   "id": "dde8ba29-fe39-41ed-ae2b-97e7f7637c60",
   "metadata": {},
   "source": [
    "What did we get back in the previous line this time?"
   ]
  },
  {
   "cell_type": "markdown",
   "id": "c4fa6838-223a-4985-8aa7-ffc92d0ae915",
   "metadata": {},
   "source": [
    "# What is this useful for?\n",
    "\n",
    "Images are also represented by arrays. Black and white images are 2D arrays. Color images are 2D arrays where each element is an array of 3 numbers - R, G and B or 4 numbers - RGB and alpha. \n",
    "\n",
    "A lot of operators in image processing are really just multiplication and division operations involving a kernel of some kind. Kernels are just 2D matrices that give some kind of weights or a map over neighbouring pixels that are involved in the operation.\n",
    "\n",
    "Image segmentation is the process of partitioning a digital image into multiple image segments that mark distinct objects. For example, stars from galaxies and lines. \n",
    "\n",
    "Basically, most of what we will do will involve some kind of arrays, therefore it's good to understand how they work underneath the surface.       \n",
    "Here are some of the kernels, for example, that exist in OpenCV - the computer vision library that we will use."
   ]
  },
  {
   "cell_type": "code",
   "execution_count": 129,
   "id": "099cf61e-90e6-4cbf-a9a9-b91a83804365",
   "metadata": {},
   "outputs": [
    {
     "data": {
      "text/plain": [
       "array([[1, 1, 1, 1, 1],\n",
       "       [1, 1, 1, 1, 1],\n",
       "       [1, 1, 1, 1, 1],\n",
       "       [1, 1, 1, 1, 1],\n",
       "       [1, 1, 1, 1, 1]], dtype=uint8)"
      ]
     },
     "execution_count": 129,
     "metadata": {},
     "output_type": "execute_result"
    }
   ],
   "source": [
    "cv2.getStructuringElement(cv2.MORPH_RECT, (5, 5))"
   ]
  },
  {
   "cell_type": "code",
   "execution_count": 130,
   "id": "3e4fa087-880e-4b1d-b97e-833e75a64027",
   "metadata": {},
   "outputs": [
    {
     "data": {
      "text/plain": [
       "array([[0, 0, 1, 0, 0],\n",
       "       [0, 0, 1, 0, 0],\n",
       "       [1, 1, 1, 1, 1],\n",
       "       [0, 0, 1, 0, 0],\n",
       "       [0, 0, 1, 0, 0]], dtype=uint8)"
      ]
     },
     "execution_count": 130,
     "metadata": {},
     "output_type": "execute_result"
    }
   ],
   "source": [
    "cv2.getStructuringElement(cv2.MORPH_CROSS, (5, 5))"
   ]
  },
  {
   "cell_type": "code",
   "execution_count": 131,
   "id": "484f0f50-55fa-4308-abce-9f9ee18a7bc4",
   "metadata": {},
   "outputs": [
    {
     "data": {
      "text/plain": [
       "array([[0, 0, 1, 0, 0],\n",
       "       [1, 1, 1, 1, 1],\n",
       "       [1, 1, 1, 1, 1],\n",
       "       [1, 1, 1, 1, 1],\n",
       "       [0, 0, 1, 0, 0]], dtype=uint8)"
      ]
     },
     "execution_count": 131,
     "metadata": {},
     "output_type": "execute_result"
    }
   ],
   "source": [
    "cv2.getStructuringElement(cv2.MORPH_ELLIPSE, (5, 5))"
   ]
  },
  {
   "cell_type": "code",
   "execution_count": null,
   "id": "04605fed-9b76-410c-99e8-03fd57cf3f69",
   "metadata": {},
   "outputs": [],
   "source": []
  }
 ],
 "metadata": {
  "kernelspec": {
   "display_name": "Python 3 (ipykernel)",
   "language": "python",
   "name": "python3"
  },
  "language_info": {
   "codemirror_mode": {
    "name": "ipython",
    "version": 3
   },
   "file_extension": ".py",
   "mimetype": "text/x-python",
   "name": "python",
   "nbconvert_exporter": "python",
   "pygments_lexer": "ipython3",
   "version": "3.9.12"
  }
 },
 "nbformat": 4,
 "nbformat_minor": 5
}
